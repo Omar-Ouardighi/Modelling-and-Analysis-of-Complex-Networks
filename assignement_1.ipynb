{
 "cells": [
  {
   "cell_type": "code",
   "execution_count": 1,
   "metadata": {},
   "outputs": [],
   "source": [
    "import snap\n",
    "import numpy as np"
   ]
  },
  {
   "attachments": {},
   "cell_type": "markdown",
   "metadata": {},
   "source": [
    "## Facebook-Ego:"
   ]
  },
  {
   "cell_type": "code",
   "execution_count": 2,
   "metadata": {},
   "outputs": [],
   "source": [
    "# Load the Facebook ego network as a undirected graph\n",
    "G_fb = snap.LoadEdgeList(snap.TUNGraph, \"Group7/Facebook-Ego/1912.edges\", 0, 1)"
   ]
  },
  {
   "cell_type": "code",
   "execution_count": 3,
   "metadata": {},
   "outputs": [
    {
     "name": "stdout",
     "output_type": "stream",
     "text": [
      "Number of nodes: 147, number of edges: 1235\n"
     ]
    }
   ],
   "source": [
    "Nodes_fb = G_fb.GetNodes()\n",
    "Edges_fb = G_fb.GetEdges()\n",
    "print(f\"Number of nodes: {Nodes_fb}, number of edges: {Edges_fb}\")"
   ]
  },
  {
   "cell_type": "code",
   "execution_count": 4,
   "metadata": {},
   "outputs": [
    {
     "name": "stdout",
     "output_type": "stream",
     "text": [
      "Maximum degree: 40 of Id 1941, average degree: 16.802721088435373\n"
     ]
    }
   ],
   "source": [
    "NId_max = G_fb.GetMxDegNId()\n",
    "MaxDegree_fb = G_fb.GetNI(NId_max).GetDeg()\n",
    "AvgDegree_fb = 2 * Edges_fb / Nodes_fb\n",
    "print(f\"Maximum degree: {MaxDegree_fb} of Id {NId_max}, average degree: {AvgDegree_fb}\")"
   ]
  },
  {
   "cell_type": "code",
   "execution_count": 5,
   "metadata": {},
   "outputs": [
    {
     "name": "stdout",
     "output_type": "stream",
     "text": [
      "[2046, 1941, 1916, 1945, 1962, 1986, 1984, 1979]\n"
     ]
    }
   ],
   "source": [
    "node_ids = []\n",
    "for node in G_fb.Nodes():\n",
    "    node_ids.append(node.GetId())\n",
    "    if len(node_ids) == 8:\n",
    "        break\n",
    "print(node_ids)\n",
    "subgraph = G_fb.GetSubGraph(node_ids)\n"
   ]
  },
  {
   "cell_type": "code",
   "execution_count": 6,
   "metadata": {},
   "outputs": [
    {
     "data": {
      "text/plain": [
       "array([[0, 1, 0, 0, 1, 1, 1, 1],\n",
       "       [1, 0, 0, 1, 0, 0, 0, 1],\n",
       "       [0, 0, 0, 1, 0, 0, 0, 0],\n",
       "       [0, 1, 1, 0, 0, 0, 0, 0],\n",
       "       [1, 0, 0, 0, 0, 1, 1, 1],\n",
       "       [1, 0, 0, 0, 1, 0, 1, 1],\n",
       "       [1, 0, 0, 0, 1, 1, 0, 1],\n",
       "       [1, 1, 0, 0, 1, 1, 1, 0]])"
      ]
     },
     "execution_count": 6,
     "metadata": {},
     "output_type": "execute_result"
    }
   ],
   "source": [
    "num_nodes = len(node_ids)\n",
    "adjacency_matrix = np.zeros((num_nodes, num_nodes), dtype=int)\n",
    "\n",
    "for i in range(num_nodes):\n",
    "    for j in range(num_nodes):\n",
    "        if subgraph.IsEdge(node_ids[i], node_ids[j]):\n",
    "            adjacency_matrix[i][j] = 1\n",
    "adjacency_matrix"
   ]
  },
  {
   "attachments": {},
   "cell_type": "markdown",
   "metadata": {},
   "source": [
    "## Twitter-Ego : "
   ]
  },
  {
   "cell_type": "code",
   "execution_count": 7,
   "metadata": {},
   "outputs": [],
   "source": [
    "# load the Twitter ego network as a directed graph\n",
    "G_tw = snap.LoadEdgeList(snap.TNGraph, \"Group7/Twitter-Ego/2841151.edges\", 0, 1)"
   ]
  },
  {
   "cell_type": "code",
   "execution_count": 8,
   "metadata": {},
   "outputs": [
    {
     "name": "stdout",
     "output_type": "stream",
     "text": [
      "Number of nodes: 127, number of edges: 1391\n"
     ]
    }
   ],
   "source": [
    "Nodes_tw = G_tw.GetNodes()\n",
    "Edges_tw = G_tw.GetEdges()\n",
    "print(f\"Number of nodes: {Nodes_tw}, number of edges: {Edges_tw}\")"
   ]
  },
  {
   "cell_type": "code",
   "execution_count": 9,
   "metadata": {},
   "outputs": [
    {
     "name": "stdout",
     "output_type": "stream",
     "text": [
      "Maximum degree: 90 of Id 5442012, average degree: 10.952755905511811\n"
     ]
    }
   ],
   "source": [
    "NId_max = G_tw.GetMxDegNId()\n",
    "MaxDegree_tw = G_tw.GetNI(NId_max).GetDeg()\n",
    "AvgDegree_tw = Edges_tw / Nodes_tw\n",
    "print(f\"Maximum degree: {MaxDegree_tw} of Id {NId_max}, average degree: {AvgDegree_tw}\")"
   ]
  },
  {
   "cell_type": "code",
   "execution_count": 10,
   "metadata": {},
   "outputs": [
    {
     "name": "stdout",
     "output_type": "stream",
     "text": [
      "[19595287, 14506809, 14559570, 14269220, 17794004, 10699462, 16089052, 7376382]\n"
     ]
    }
   ],
   "source": [
    "node_ids = []\n",
    "for node in G_tw.Nodes():\n",
    "    node_ids.append(node.GetId())\n",
    "    if len(node_ids) == 8:\n",
    "        break\n",
    "print(node_ids)\n",
    "subgraph = G_tw.GetSubGraph(node_ids)"
   ]
  },
  {
   "cell_type": "code",
   "execution_count": 11,
   "metadata": {},
   "outputs": [
    {
     "data": {
      "text/plain": [
       "array([[0, 1, 0, 1, 0, 0, 0, 0],\n",
       "       [1, 0, 1, 1, 0, 0, 1, 1],\n",
       "       [1, 1, 0, 1, 0, 0, 0, 1],\n",
       "       [1, 0, 1, 0, 0, 0, 0, 1],\n",
       "       [1, 0, 0, 1, 0, 1, 0, 0],\n",
       "       [1, 1, 0, 1, 1, 0, 0, 0],\n",
       "       [0, 1, 0, 0, 0, 0, 0, 1],\n",
       "       [0, 0, 0, 1, 0, 0, 1, 0]])"
      ]
     },
     "execution_count": 11,
     "metadata": {},
     "output_type": "execute_result"
    }
   ],
   "source": [
    "num_nodes = len(node_ids)\n",
    "adjacency_matrix_tw = np.zeros((num_nodes, num_nodes), dtype=int)\n",
    "\n",
    "for i in range(num_nodes):\n",
    "    for j in range(num_nodes):\n",
    "        if subgraph.IsEdge(node_ids[i], node_ids[j]):\n",
    "            adjacency_matrix_tw[i][j] = 1\n",
    "adjacency_matrix_tw"
   ]
  },
  {
   "cell_type": "code",
   "execution_count": null,
   "metadata": {},
   "outputs": [],
   "source": []
  }
 ],
 "metadata": {
  "kernelspec": {
   "display_name": "graph",
   "language": "python",
   "name": "python3"
  },
  "language_info": {
   "codemirror_mode": {
    "name": "ipython",
    "version": 3
   },
   "file_extension": ".py",
   "mimetype": "text/x-python",
   "name": "python",
   "nbconvert_exporter": "python",
   "pygments_lexer": "ipython3",
   "version": "3.9.18"
  },
  "orig_nbformat": 4,
  "vscode": {
   "interpreter": {
    "hash": "8705649da486b08bea842e9c84ceb153cdc1edfcb92b9e69bcde4d937912465b"
   }
  }
 },
 "nbformat": 4,
 "nbformat_minor": 2
}
